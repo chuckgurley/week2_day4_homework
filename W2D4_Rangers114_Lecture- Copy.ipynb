{
 "cells": [
  {
   "cell_type": "markdown",
   "metadata": {},
   "source": [
    "# User-Defined Functions & Scoping"
   ]
  },
  {
   "cell_type": "markdown",
   "metadata": {},
   "source": [
    "## Tasks Today:\n",
    "\n",
    "\n",
    "1) Functions <br>\n",
    " &nbsp;&nbsp;&nbsp;&nbsp; a) User-Defined vs. Built-In Functions <br>\n",
    " &nbsp;&nbsp;&nbsp;&nbsp; b) Accepting Parameters <br>\n",
    " &nbsp;&nbsp;&nbsp;&nbsp; c) Default Parameters <br>\n",
    " &nbsp;&nbsp;&nbsp;&nbsp; d) Making an Argument Optional <br>\n",
    " &nbsp;&nbsp;&nbsp;&nbsp; e) Keyword Arguments <br>\n",
    " &nbsp;&nbsp;&nbsp;&nbsp; f) Returning Values <br>\n",
    " &nbsp;&nbsp;&nbsp;&nbsp; g) *args <br>\n",
    " &nbsp;&nbsp;&nbsp;&nbsp; h) Docstring <br>\n",
    " &nbsp;&nbsp;&nbsp;&nbsp; i) Using a User Function in a Loop <br>\n",
    "2) Scope\n",
    "3) Creating more User-Defined functions "
   ]
  },
  {
   "cell_type": "markdown",
   "metadata": {},
   "source": [
    "\n",
    "## Functions"
   ]
  },
  {
   "cell_type": "markdown",
   "metadata": {},
   "source": [
    "##### User-Defined vs. Built-In Functions"
   ]
  },
  {
   "cell_type": "code",
   "execution_count": 11,
   "metadata": {},
   "outputs": [
    {
     "name": "stdout",
     "output_type": "stream",
     "text": [
      "hello again\n",
      "hello\n",
      "None\n",
      "hello again\n"
     ]
    }
   ],
   "source": [
    "# #Built-in Function\n",
    "# print(\"Hello\")\n",
    "\n",
    "# #User Defined Function:\n",
    "# def say_hello():\n",
    "#     return \"Hello World\"\n",
    "# print(say_hello())\n",
    "\n",
    "# def say_hello2():\n",
    "#     return \"Hello again\"\n",
    "\n",
    "# print(say_hello2())\n",
    "\n",
    "# print(say_hello)\n",
    "\n",
    "def say_hello():\n",
    "    return \"hello again\"\n",
    "\n",
    "print (say_hello())\n",
    "\n",
    "def say_hello2():\n",
    "    print(\"hello\")\n",
    "    \n",
    "print(say_hello2())\n",
    "    \n",
    "# when calling a function, you will always need to put peremtheses at the end\n",
    "\n",
    "\n",
    "def say_hello3():\n",
    "    hello = say_hello()\n",
    "    return hello\n",
    "print(say_hello3())\n",
    "\n"
   ]
  },
  {
   "cell_type": "markdown",
   "metadata": {},
   "source": [
    "##### Accepting Parameters"
   ]
  },
  {
   "cell_type": "code",
   "execution_count": 13,
   "metadata": {
    "scrolled": true
   },
   "outputs": [
    {
     "ename": "SyntaxError",
     "evalue": "unterminated string literal (detected at line 15) (2733964700.py, line 15)",
     "output_type": "error",
     "traceback": [
      "\u001b[1;36m  Cell \u001b[1;32mIn[13], line 15\u001b[1;36m\u001b[0m\n\u001b[1;33m    return f\"The {noun} kinda\u001b[0m\n\u001b[1;37m           ^\u001b[0m\n\u001b[1;31mSyntaxError\u001b[0m\u001b[1;31m:\u001b[0m unterminated string literal (detected at line 15)\n"
     ]
    }
   ],
   "source": [
    "# order matters\n",
    "#parameters are positional\n",
    "# a variable can be any type of object (data type)\n",
    "\n",
    "# def print_something(something):\n",
    "#     return something\n",
    "# print_something(4)\n",
    "\n",
    "def print_something(something):\n",
    "    return something\n",
    "print_something(\"The weather kinda sucks today\")\n",
    "  \n",
    "    \n",
    "def make_sentence(vern, noun, adjective) \n",
    "    return f\"The {noun} kinda\n",
    "\n",
    "def subtravtion(a, b):\n",
    "    return a - b\n",
    "pring(subtraction( 10. 6))\n"
   ]
  },
  {
   "cell_type": "markdown",
   "metadata": {},
   "source": [
    "##### Default Parameters"
   ]
  },
  {
   "cell_type": "code",
   "execution_count": 17,
   "metadata": {},
   "outputs": [
    {
     "name": "stdout",
     "output_type": "stream",
     "text": [
      "The name is Jenkins.... Leroy Jenkins.\n"
     ]
    }
   ],
   "source": [
    "# Default parameters must come after non-default parameters at all times\n",
    "\n",
    "def agent_name(first_name, last_name = \"Bond\"):\n",
    "    \n",
    "    return f\"The name is {last_name}.... {first_name} {last_name}.\"\n",
    "\n",
    "# print(agent_name(\"Jimmy\"))\n",
    "# print(agent_name(\"Jimmy\", \"Brown\"))\n",
    "print(agent_name(\"Leroy\", last_name = \"Jenkins\"))\n",
    "\n",
    "\n",
    "\n",
    "\n",
    "\n",
    "\n"
   ]
  },
  {
   "cell_type": "code",
   "execution_count": 16,
   "metadata": {},
   "outputs": [
    {
     "name": "stdout",
     "output_type": "stream",
     "text": [
      "Your birthday is January 4 and you were born in 1998\n",
      "Your birthday is February 22 and you were born in 1999\n",
      "Your birthday is December 11 and you were born in 1974\n"
     ]
    }
   ],
   "source": [
    "def birthday_month(day, year, month=\"January\"):\n",
    "    return f\"Your birthday is {month} {day} and you were born in {year}\"\n",
    "    \n",
    "print(birthday_month(4, 1998))\n",
    "\n",
    "print(birthday_month( 22, 1999, month=\"February\"))\n",
    "\n",
    "print(birthday_month( 11, 1974, month=\"December\"))"
   ]
  },
  {
   "cell_type": "code",
   "execution_count": null,
   "metadata": {},
   "outputs": [],
   "source": []
  },
  {
   "cell_type": "markdown",
   "metadata": {},
   "source": [
    "##### Making an Argument Optional"
   ]
  },
  {
   "cell_type": "code",
   "execution_count": 22,
   "metadata": {},
   "outputs": [
    {
     "ename": "SyntaxError",
     "evalue": "expected ':' (671273289.py, line 2)",
     "output_type": "error",
     "traceback": [
      "\u001b[1;36m  Cell \u001b[1;32mIn[22], line 2\u001b[1;36m\u001b[0m\n\u001b[1;33m    if middle == \"\"\u001b[0m\n\u001b[1;37m                   ^\u001b[0m\n\u001b[1;31mSyntaxError\u001b[0m\u001b[1;31m:\u001b[0m expected ':'\n"
     ]
    }
   ],
   "source": [
    "def print_horse_name(first, middle = \"\", last = \"Ed\"):\n",
    "    if middle == \"\"\n",
    "         return f\"Hello {first} {last}. \"\n",
    "    return f\"Hello {first} {middle} {last}. \"\n",
    "print(print_horse_name(\"Mr.\"))\n",
    "(print_horse_name(\"Mr.\", \"the horse\", \"epona\"))"
   ]
  },
  {
   "cell_type": "code",
   "execution_count": null,
   "metadata": {},
   "outputs": [],
   "source": []
  },
  {
   "cell_type": "markdown",
   "metadata": {},
   "source": [
    "##### Keyword Arguments"
   ]
  },
  {
   "cell_type": "code",
   "execution_count": 26,
   "metadata": {},
   "outputs": [
    {
     "name": "stdout",
     "output_type": "stream",
     "text": [
      "barman's power is money and secret identity is bruce Wayne\n"
     ]
    }
   ],
   "source": [
    "# \n",
    "\n",
    "def print_hero(name, secret_identity, power=\"flying\"):\n",
    "    return f\"{name}'s power is {power} and secret identity is {secret_identity}\"\n",
    "print(print_hero(power=\"money\", name = \"barman\", secret_identity=\"bruce Wayne\"))\n",
    "\n",
    "\n",
    "\n",
    "\n"
   ]
  },
  {
   "cell_type": "code",
   "execution_count": 30,
   "metadata": {},
   "outputs": [
    {
     "data": {
      "text/plain": [
       "'Here are some neat colors: yellow, blue, red'"
      ]
     },
     "execution_count": 30,
     "metadata": {},
     "output_type": "execute_result"
    }
   ],
   "source": [
    "yellow = \"yellow\"\n",
    "def print_colors(color1, color2, color3):\n",
    "    return f\"Here are some neat colors: {color1}, {color2}, {color3}\"\n",
    "#print_colors( color2=\"blue\", color3=yellow, color1=\"red\" )\n",
    "print_colors( yellow, color3=\"red\", color2 =\"blue\")\n",
    "\n"
   ]
  },
  {
   "cell_type": "markdown",
   "metadata": {},
   "source": [
    "# Creating a start, stop, step function"
   ]
  },
  {
   "cell_type": "code",
   "execution_count": 32,
   "metadata": {
    "scrolled": true
   },
   "outputs": [
    {
     "name": "stdout",
     "output_type": "stream",
     "text": [
      "0\n",
      "1\n",
      "2\n",
      "3\n",
      "4\n",
      "5\n",
      "6\n",
      "7\n",
      "8\n",
      "9\n",
      "10\n",
      "11\n",
      "12\n",
      "13\n",
      "14\n",
      "hey great job, you're beautiful\n"
     ]
    }
   ],
   "source": [
    " def my_range(stop, start = 0, step = 1):\n",
    "    for i in range(start, stop, step):\n",
    "         print(i)\n",
    "    return \"hey great job, you're beautiful\"\n",
    " print(my_range(20,1,2))\n"
   ]
  },
  {
   "cell_type": "code",
   "execution_count": null,
   "metadata": {},
   "outputs": [],
   "source": [
    "def square_nums(arr):\n",
    "    square_list = []\n",
    "    fpr num in arr:\n",
    "        return num **2\n",
    "    print()"
   ]
  },
  {
   "cell_type": "code",
   "execution_count": 33,
   "metadata": {},
   "outputs": [
    {
     "name": "stdout",
     "output_type": "stream",
     "text": [
      "50\n",
      "57\n",
      "64\n",
      "71\n",
      "78\n",
      "85\n",
      "92\n",
      "99\n",
      "106\n",
      "113\n",
      "120\n",
      "127\n",
      "134\n",
      "141\n",
      "148\n",
      "155\n",
      "162\n",
      "169\n",
      "176\n",
      "183\n",
      "190\n",
      "197\n",
      "204\n",
      "211\n",
      "218\n",
      "225\n",
      "232\n",
      "239\n",
      "246\n",
      "253\n",
      "260\n",
      "267\n",
      "274\n",
      "281\n",
      "288\n",
      "295\n",
      "302\n",
      "309\n",
      "316\n",
      "323\n",
      "330\n",
      "337\n",
      "344\n",
      "351\n",
      "358\n",
      "365\n",
      "372\n",
      "379\n",
      "386\n",
      "393\n",
      "400\n",
      "407\n",
      "414\n",
      "421\n",
      "428\n",
      "435\n",
      "442\n",
      "449\n",
      "456\n",
      "463\n",
      "470\n",
      "477\n",
      "484\n",
      "491\n",
      "498\n",
      "505\n",
      "512\n",
      "519\n",
      "526\n",
      "533\n",
      "540\n",
      "547\n",
      "554\n",
      "561\n",
      "568\n",
      "575\n",
      "582\n",
      "589\n",
      "596\n",
      "603\n",
      "610\n",
      "617\n",
      "624\n",
      "631\n",
      "638\n",
      "645\n",
      "652\n",
      "659\n",
      "666\n",
      "673\n",
      "680\n",
      "687\n",
      "694\n",
      "701\n",
      "708\n",
      "715\n",
      "722\n",
      "729\n",
      "736\n",
      "743\n",
      "750\n",
      "757\n",
      "764\n",
      "771\n",
      "778\n",
      "785\n",
      "792\n",
      "799\n",
      "806\n",
      "813\n",
      "820\n",
      "827\n",
      "834\n",
      "841\n",
      "848\n",
      "855\n",
      "862\n",
      "869\n",
      "876\n",
      "883\n",
      "890\n",
      "897\n",
      "904\n",
      "911\n",
      "918\n",
      "925\n",
      "932\n",
      "939\n",
      "946\n",
      "953\n",
      "960\n",
      "967\n",
      "974\n",
      "981\n",
      "988\n",
      "995\n",
      "hey great job, you're beautiful\n"
     ]
    }
   ],
   "source": [
    "print(my_range(1000, step = 7, start = 50))"
   ]
  },
  {
   "cell_type": "markdown",
   "metadata": {},
   "source": [
    "##### Returning Values"
   ]
  },
  {
   "cell_type": "code",
   "execution_count": 45,
   "metadata": {},
   "outputs": [
    {
     "ename": "SyntaxError",
     "evalue": "expected ':' (560619823.py, line 2)",
     "output_type": "error",
     "traceback": [
      "\u001b[1;36m  Cell \u001b[1;32mIn[45], line 2\u001b[1;36m\u001b[0m\n\u001b[1;33m    def find_a_bulbasaur(arr) == \"bulbasaur\":\u001b[0m\n\u001b[1;37m                              ^\u001b[0m\n\u001b[1;31mSyntaxError\u001b[0m\u001b[1;31m:\u001b[0m expected ':'\n"
     ]
    }
   ],
   "source": [
    "poke_list = [\"Charmander\", \"Squirtle\", \"Cyndaquil\", \"Chikorita\", \"Totodile\", \"Bulbasaur\"]\n",
    "def find_a_bulbasaur(arr) == \"bulbasaur\":\n",
    "    for poke in arr:\n",
    "        if poke == 'Bulbasaur':\n",
    "            return \"Bulba Bulba\"       \n",
    "        \n",
    "    return \"No Bulbasaur sad\"\n",
    "\n",
    "find_a_bulbasaur(poke_list)"
   ]
  },
  {
   "cell_type": "code",
   "execution_count": 46,
   "metadata": {},
   "outputs": [
    {
     "name": "stdout",
     "output_type": "stream",
     "text": [
      "Bulba Bulba\n"
     ]
    },
    {
     "ename": "NameError",
     "evalue": "name 'is_bulbasuar' is not defined",
     "output_type": "error",
     "traceback": [
      "\u001b[1;31m---------------------------------------------------------------------------\u001b[0m",
      "\u001b[1;31mNameError\u001b[0m                                 Traceback (most recent call last)",
      "Cell \u001b[1;32mIn[46], line 9\u001b[0m\n\u001b[0;32m      6\u001b[0m \u001b[38;5;66;03m#caught = find_a_bulbasaur(poke_list)\u001b[39;00m\n\u001b[0;32m      7\u001b[0m \u001b[38;5;28mprint\u001b[39m(caught)\n\u001b[1;32m----> 9\u001b[0m \u001b[43mis_bulbasuar\u001b[49m(find_a_bulbasaur(poke_list))\n",
      "\u001b[1;31mNameError\u001b[0m: name 'is_bulbasuar' is not defined"
     ]
    }
   ],
   "source": [
    "def is_bulbasaur(arr):\n",
    "    if string == \"Bula Bula\":\n",
    "        return \"You caught a Bulbasaur\"\n",
    "    return \"Oh! bubasoaer\"\n",
    "\n",
    "#caught = find_a_bulbasaur(poke_list)\n",
    "print(caught)\n",
    "\n",
    "is_bulbasuar(find_a_bulbasaur(poke_list))"
   ]
  },
  {
   "cell_type": "code",
   "execution_count": null,
   "metadata": {},
   "outputs": [],
   "source": [
    "poke_list = [\"Charmander\", \"Squirtle\", \"Cyndaquil\", \"Chikorita\", \"Totodile\"]\n",
    "for poke in poke_list:\n",
    "    print(poke)\n",
    "    \n",
    "num = 1\n",
    "if num == 1:\n",
    "    print(\"thats a 1\")\n",
    "    else(\"thats not a 1\")\n",
    "    \n",
    "onphone\n",
    "\n",
    "\n"
   ]
  },
  {
   "cell_type": "markdown",
   "metadata": {},
   "source": [
    "##### *args / **kwargs (keyword arguments)"
   ]
  },
  {
   "cell_type": "code",
   "execution_count": 52,
   "metadata": {},
   "outputs": [
    {
     "ename": "SyntaxError",
     "evalue": "invalid syntax. Perhaps you forgot a comma? (1566180636.py, line 6)",
     "output_type": "error",
     "traceback": [
      "\u001b[1;36m  Cell \u001b[1;32mIn[52], line 6\u001b[1;36m\u001b[0m\n\u001b[1;33m    print(\"this is my postion argument:\" num1, num2, name)\u001b[0m\n\u001b[1;37m          ^\u001b[0m\n\u001b[1;31mSyntaxError\u001b[0m\u001b[1;31m:\u001b[0m invalid syntax. Perhaps you forgot a comma?\n"
     ]
    }
   ],
   "source": [
    "#*args, **kwargs\n",
    "#*args stands for arguments (**kwargs is for keyword arguments) & takes any number of arguments as parameters\n",
    "#if other parameteres are present, *args must go last\n",
    "#**kwargs will allow \n",
    "def print_args(num1, *args, **kwargs):\n",
    "    print(\"this is my postion argument:\" num1, num2, name)\n",
    "    print(\"this are my arguments:\",args)\n",
    "    print(\"this are my key arguments:\", kwargs)\n",
    "    \n",
    "print_args(2, 3 \"Mega Man\", \"Cheetor\", \"What else is on Ryan's desk?\", 12, 54, names= [\"Chuck\", \"dessiree\", \"Patrick\"], language= \"python\"\n",
    "           ['stuff', 'morestuff'], names=['Jeong', 'Mike', 'Tenzin'], language = 'python')"
   ]
  },
  {
   "cell_type": "code",
   "execution_count": 55,
   "metadata": {},
   "outputs": [
    {
     "name": "stdout",
     "output_type": "stream",
     "text": [
      "Dharti\n",
      "Ewa\n",
      "Desiree\n",
      "Ben\n",
      "Enoch\n",
      "Swan\n",
      "Aristo\n",
      "Hyun-Tae\n",
      "Lyle\n",
      "Abdel\n"
     ]
    },
    {
     "ename": "NameError",
     "evalue": "name 'cities' is not defined",
     "output_type": "error",
     "traceback": [
      "\u001b[1;31m---------------------------------------------------------------------------\u001b[0m",
      "\u001b[1;31mNameError\u001b[0m                                 Traceback (most recent call last)",
      "Cell \u001b[1;32mIn[55], line 8\u001b[0m\n\u001b[0;32m      6\u001b[0m         \u001b[38;5;28;01mfor\u001b[39;00m location \u001b[38;5;129;01min\u001b[39;00m city:\n\u001b[0;32m      7\u001b[0m             \u001b[38;5;28mprint\u001b[39m(location)\n\u001b[1;32m----> 8\u001b[0m \u001b[43mprint_more_args\u001b[49m\u001b[43m(\u001b[49m\u001b[38;5;124;43m\"\u001b[39;49m\u001b[38;5;124;43mDharti\u001b[39;49m\u001b[38;5;124;43m\"\u001b[39;49m\u001b[43m,\u001b[49m\u001b[43m \u001b[49m\u001b[38;5;124;43m\"\u001b[39;49m\u001b[38;5;124;43mEwa\u001b[39;49m\u001b[38;5;124;43m\"\u001b[39;49m\u001b[43m,\u001b[49m\u001b[43m \u001b[49m\u001b[38;5;124;43m\"\u001b[39;49m\u001b[38;5;124;43mDesiree\u001b[39;49m\u001b[38;5;124;43m\"\u001b[39;49m\u001b[43m,\u001b[49m\u001b[43m \u001b[49m\u001b[38;5;124;43m\"\u001b[39;49m\u001b[38;5;124;43mBen\u001b[39;49m\u001b[38;5;124;43m\"\u001b[39;49m\u001b[43m,\u001b[49m\u001b[43m \u001b[49m\u001b[38;5;124;43m\"\u001b[39;49m\u001b[38;5;124;43mEnoch\u001b[39;49m\u001b[38;5;124;43m\"\u001b[39;49m\u001b[43m,\u001b[49m\u001b[43m \u001b[49m\u001b[38;5;124;43m\"\u001b[39;49m\u001b[38;5;124;43mSwan\u001b[39;49m\u001b[38;5;124;43m\"\u001b[39;49m\u001b[43m,\u001b[49m\u001b[43m \u001b[49m\u001b[38;5;124;43m\"\u001b[39;49m\u001b[38;5;124;43mAristo\u001b[39;49m\u001b[38;5;124;43m\"\u001b[39;49m\u001b[43m,\u001b[49m\u001b[43m \u001b[49m\u001b[38;5;124;43m\"\u001b[39;49m\u001b[38;5;124;43mHyun-Tae\u001b[39;49m\u001b[38;5;124;43m\"\u001b[39;49m\u001b[43m,\u001b[49m\u001b[43m \u001b[49m\u001b[38;5;124;43m\"\u001b[39;49m\u001b[38;5;124;43mLyle\u001b[39;49m\u001b[38;5;124;43m\"\u001b[39;49m\u001b[43m,\u001b[49m\u001b[43m \u001b[49m\u001b[38;5;124;43m\"\u001b[39;49m\u001b[38;5;124;43mAbdel\u001b[39;49m\u001b[38;5;124;43m\"\u001b[39;49m\u001b[43m,\u001b[49m\n\u001b[0;32m      9\u001b[0m \u001b[43m               \u001b[49m\u001b[43mcities\u001b[49m\u001b[38;5;241;43m=\u001b[39;49m\u001b[43m[\u001b[49m\u001b[38;5;124;43m'\u001b[39;49m\u001b[38;5;124;43mChicago\u001b[39;49m\u001b[38;5;124;43m'\u001b[39;49m\u001b[43m,\u001b[49m\u001b[43m \u001b[49m\u001b[38;5;124;43m\"\u001b[39;49m\u001b[38;5;124;43mQueens\u001b[39;49m\u001b[38;5;124;43m\"\u001b[39;49m\u001b[43m,\u001b[49m\u001b[43m \u001b[49m\u001b[38;5;124;43m\"\u001b[39;49m\u001b[38;5;124;43mLos Angeles\u001b[39;49m\u001b[38;5;124;43m\"\u001b[39;49m\u001b[43m,\u001b[49m\u001b[43m \u001b[49m\u001b[38;5;124;43m\"\u001b[39;49m\u001b[38;5;124;43mPlano\u001b[39;49m\u001b[38;5;124;43m\"\u001b[39;49m\u001b[43m,\u001b[49m\u001b[43m \u001b[49m\u001b[38;5;124;43m\"\u001b[39;49m\u001b[38;5;124;43mLas Vegas\u001b[39;49m\u001b[38;5;124;43m\"\u001b[39;49m\u001b[43m,\u001b[49m\u001b[43m \u001b[49m\u001b[38;5;124;43m\"\u001b[39;49m\u001b[38;5;124;43mPortland\u001b[39;49m\u001b[38;5;124;43m\"\u001b[39;49m\u001b[43m,\u001b[49m\u001b[43m \u001b[49m\u001b[38;5;124;43m\"\u001b[39;49m\u001b[38;5;124;43mPittsburgh\u001b[39;49m\u001b[38;5;124;43m\"\u001b[39;49m\u001b[43m,\u001b[49m\u001b[43m \u001b[49m\u001b[38;5;124;43m\"\u001b[39;49m\u001b[38;5;124;43mSeattle\u001b[39;49m\u001b[38;5;124;43m\"\u001b[39;49m\u001b[43m,\u001b[49m\u001b[43m \u001b[49m\u001b[38;5;124;43m\"\u001b[39;49m\u001b[38;5;124;43mFairfax\u001b[39;49m\u001b[38;5;124;43m\"\u001b[39;49m\u001b[43m]\u001b[49m\u001b[43m)\u001b[49m   \n\u001b[0;32m     11\u001b[0m locations \u001b[38;5;241m=\u001b[39m {\u001b[38;5;124m'\u001b[39m\u001b[38;5;124mcities\u001b[39m\u001b[38;5;124m'\u001b[39m: [\u001b[38;5;124m'\u001b[39m\u001b[38;5;124mlist of cities\u001b[39m\u001b[38;5;124m'\u001b[39m]}\n",
      "Cell \u001b[1;32mIn[55], line 5\u001b[0m, in \u001b[0;36mprint_more_args\u001b[1;34m(*names, **loca)\u001b[0m\n\u001b[0;32m      2\u001b[0m \u001b[38;5;28;01mfor\u001b[39;00m name \u001b[38;5;129;01min\u001b[39;00m names:\n\u001b[0;32m      3\u001b[0m     \u001b[38;5;28mprint\u001b[39m(name)\n\u001b[1;32m----> 5\u001b[0m \u001b[38;5;28;01mfor\u001b[39;00m city \u001b[38;5;129;01min\u001b[39;00m \u001b[43mcities\u001b[49m\u001b[38;5;241m.\u001b[39mvalues():\n\u001b[0;32m      6\u001b[0m     \u001b[38;5;28;01mfor\u001b[39;00m location \u001b[38;5;129;01min\u001b[39;00m city:\n\u001b[0;32m      7\u001b[0m         \u001b[38;5;28mprint\u001b[39m(location)\n",
      "\u001b[1;31mNameError\u001b[0m: name 'cities' is not defined"
     ]
    }
   ],
   "source": [
    "def print_more_args(*names, **loca):\n",
    "    for name in names:\n",
    "        print(name)\n",
    "           \n",
    "    for city in cities.values():\n",
    "        for location in city:\n",
    "            print(location)\n",
    "print_more_args(\"Dharti\", \"Ewa\", \"Desiree\", \"Ben\", \"Enoch\", \"Swan\", \"Aristo\", \"Hyun-Tae\", \"Lyle\", \"Abdel\",\n",
    "               cities=['Chicago', \"Queens\", \"Los Angeles\", \"Plano\", \"Las Vegas\", \"Portland\", \"Pittsburgh\", \"Seattle\", \"Fairfax\"])   \n",
    "\n",
    "locations = {'cities': ['list of cities']}\n",
    "\n"
   ]
  },
  {
   "cell_type": "code",
   "execution_count": null,
   "metadata": {},
   "outputs": [],
   "source": []
  },
  {
   "cell_type": "code",
   "execution_count": 56,
   "metadata": {},
   "outputs": [
    {
     "name": "stdout",
     "output_type": "stream",
     "text": [
      "This is my postional argument: 2 3 Ryan\n",
      "These are my arguments: ()\n",
      "These are my keyword arguments: {}\n",
      "Dharti\n",
      "\n",
      "Desiree\n",
      "Ben\n",
      "Enoch\n",
      "Swan\n",
      "Aristo\n",
      "Hyun-Tae\n",
      "Lyle\n",
      "Abdel\n",
      "Chicago\n",
      "Queens\n",
      "Los Angeles\n",
      "Plano\n",
      "Las Vegas\n",
      "Portland\n",
      "Pittsburgh\n",
      "Seattle\n",
      "Fairfax\n"
     ]
    }
   ],
   "source": [
    "def print_args(num1, num2, name, *args, **kwargs):\n",
    "    print(\"This is my postional argument:\", num1, num2, name)\n",
    "    print(\"These are my arguments:\", args)\n",
    "    print(\"These are my keyword arguments:\", kwargs)\n",
    "\n",
    "print_args(2, 3, \"Ryan\")\n",
    "def print_more_args(*names, **locations):\n",
    "    for name in names:\n",
    "        print(name)\n",
    "    \n",
    "#     places = locations['cities']\n",
    "    \n",
    "    for city in locations['cities']:\n",
    "        print(city)\n",
    "print_more_args(\"Dharti\", \"\", \"Desiree\", \"Ben\", \"Enoch\", \"Swan\", \"Aristo\", \"Hyun-Tae\", \"Lyle\", \"Abdel\",\n",
    "              cities=['Chicago', \"Queens\", \"Los Angeles\", \"Plano\", \"Las Vegas\", \"Portland\", \"Pittsburgh\", \"Seattle\", \"Fairfax\"])\n",
    "\n",
    "\n",
    "locations = {'cities': ['list of cities']}"
   ]
  },
  {
   "cell_type": "code",
   "execution_count": null,
   "metadata": {},
   "outputs": [],
   "source": []
  },
  {
   "cell_type": "code",
   "execution_count": null,
   "metadata": {},
   "outputs": [],
   "source": []
  },
  {
   "cell_type": "markdown",
   "metadata": {},
   "source": [
    "##### Docstring"
   ]
  },
  {
   "cell_type": "code",
   "execution_count": 1,
   "metadata": {},
   "outputs": [
    {
     "name": "stdout",
     "output_type": "stream",
     "text": [
      "Chuck\n",
      "Alex\n",
      "Swan\n",
      "Kevin\n",
      "Able\n",
      "Help on function print_names in module __main__:\n",
      "\n",
      "print_names(arr)\n",
      "    print_names(arr)\n",
      "    Function requires a list to be passed as a parameter\n",
      "    and will print the contents of the list. Expecting a list of name\n",
      "    as strings to be passed in.\n",
      "\n"
     ]
    }
   ],
   "source": [
    "# really nice for leaving notes about functionaly in your code\n",
    "# providing instructions\n",
    "def print_names(arr):\n",
    "    \"\"\"    \n",
    "    print_names(arr)\n",
    "    Function requires a list to be passed as a parameter\n",
    "    and will print the contents of the list. Expecting a list of name\n",
    "    as strings to be passed in.    \n",
    "    \"\"\"\n",
    "\n",
    "    for name in arr:\n",
    "        print(name)\n",
    "      \n",
    "print_names([\"Chuck\", \"Alex\", \"Swan\", \"Kevin\", \"Able\"])\n",
    "\n",
    "help(print_names)\n",
    "\n",
    "#something('d')\n"
   ]
  },
  {
   "cell_type": "markdown",
   "metadata": {},
   "source": [
    "##### Using a User Function in a Loop"
   ]
  },
  {
   "cell_type": "code",
   "execution_count": 67,
   "metadata": {},
   "outputs": [
    {
     "name": "stdout",
     "output_type": "stream",
     "text": [
      "Whats going on?kjkj\n",
      "kjkjj;lkjpkl;j\n",
      "j;lkjpkl;j\n",
      "Are you ready to quit? no\n",
      "Whats going on?nothing\n",
      "nothingkjkj\n",
      "kjkj\n",
      "Are you ready to quit? quit\n",
      "Whats going on?quit\n",
      "quit\n",
      "\n",
      "Are you ready to quit? yes\n"
     ]
    }
   ],
   "source": [
    "def printInput(answer):\n",
    "    print(f\"I say heyayyayayayayayayayaayayya {answer}\")\n",
    "    \n",
    "while True:\n",
    "    ask = input(\"Whats going on?\")\n",
    "    \n",
    "    print(input(ask))\n",
    "    \n",
    "    response = input(\"Are you ready to quit? \")\n",
    "    if response.lower() == \"yes\":\n",
    "        break\n",
    "        \n",
    "        "
   ]
  },
  {
   "cell_type": "code",
   "execution_count": 69,
   "metadata": {},
   "outputs": [
    {
     "ename": "KeyboardInterrupt",
     "evalue": "Interrupted by user",
     "output_type": "error",
     "traceback": [
      "\u001b[1;31m---------------------------------------------------------------------------\u001b[0m",
      "\u001b[1;31mKeyboardInterrupt\u001b[0m                         Traceback (most recent call last)",
      "Cell \u001b[1;32mIn[69], line 20\u001b[0m\n\u001b[0;32m     17\u001b[0m     \u001b[38;5;28mprint\u001b[39m(store)\n\u001b[0;32m     19\u001b[0m \u001b[38;5;28;01mwhile\u001b[39;00m \u001b[38;5;28;01mTrue\u001b[39;00m:\n\u001b[1;32m---> 20\u001b[0m     response \u001b[38;5;241m=\u001b[39m \u001b[38;5;28;43minput\u001b[39;49m\u001b[43m(\u001b[49m\u001b[38;5;124;43m\"\u001b[39;49m\u001b[38;5;124;43mWhat would you like to do? add, remove, show\u001b[39;49m\u001b[38;5;124;43m\"\u001b[39;49m\u001b[43m)\u001b[49m\n\u001b[0;32m     22\u001b[0m     \u001b[38;5;28;01mif\u001b[39;00m response\u001b[38;5;241m.\u001b[39mlower() \u001b[38;5;241m==\u001b[39m \u001b[38;5;124m'\u001b[39m\u001b[38;5;124madd\u001b[39m\u001b[38;5;124m'\u001b[39m:\n\u001b[0;32m     23\u001b[0m         add_item()\n",
      "File \u001b[1;32m~\\AppData\\Local\\Programs\\Python\\Python310\\lib\\site-packages\\ipykernel\\kernelbase.py:1191\u001b[0m, in \u001b[0;36mKernel.raw_input\u001b[1;34m(self, prompt)\u001b[0m\n\u001b[0;32m   1189\u001b[0m     msg \u001b[38;5;241m=\u001b[39m \u001b[38;5;124m\"\u001b[39m\u001b[38;5;124mraw_input was called, but this frontend does not support input requests.\u001b[39m\u001b[38;5;124m\"\u001b[39m\n\u001b[0;32m   1190\u001b[0m     \u001b[38;5;28;01mraise\u001b[39;00m StdinNotImplementedError(msg)\n\u001b[1;32m-> 1191\u001b[0m \u001b[38;5;28;01mreturn\u001b[39;00m \u001b[38;5;28;43mself\u001b[39;49m\u001b[38;5;241;43m.\u001b[39;49m\u001b[43m_input_request\u001b[49m\u001b[43m(\u001b[49m\n\u001b[0;32m   1192\u001b[0m \u001b[43m    \u001b[49m\u001b[38;5;28;43mstr\u001b[39;49m\u001b[43m(\u001b[49m\u001b[43mprompt\u001b[49m\u001b[43m)\u001b[49m\u001b[43m,\u001b[49m\n\u001b[0;32m   1193\u001b[0m \u001b[43m    \u001b[49m\u001b[38;5;28;43mself\u001b[39;49m\u001b[38;5;241;43m.\u001b[39;49m\u001b[43m_parent_ident\u001b[49m\u001b[43m[\u001b[49m\u001b[38;5;124;43m\"\u001b[39;49m\u001b[38;5;124;43mshell\u001b[39;49m\u001b[38;5;124;43m\"\u001b[39;49m\u001b[43m]\u001b[49m\u001b[43m,\u001b[49m\n\u001b[0;32m   1194\u001b[0m \u001b[43m    \u001b[49m\u001b[38;5;28;43mself\u001b[39;49m\u001b[38;5;241;43m.\u001b[39;49m\u001b[43mget_parent\u001b[49m\u001b[43m(\u001b[49m\u001b[38;5;124;43m\"\u001b[39;49m\u001b[38;5;124;43mshell\u001b[39;49m\u001b[38;5;124;43m\"\u001b[39;49m\u001b[43m)\u001b[49m\u001b[43m,\u001b[49m\n\u001b[0;32m   1195\u001b[0m \u001b[43m    \u001b[49m\u001b[43mpassword\u001b[49m\u001b[38;5;241;43m=\u001b[39;49m\u001b[38;5;28;43;01mFalse\u001b[39;49;00m\u001b[43m,\u001b[49m\n\u001b[0;32m   1196\u001b[0m \u001b[43m\u001b[49m\u001b[43m)\u001b[49m\n",
      "File \u001b[1;32m~\\AppData\\Local\\Programs\\Python\\Python310\\lib\\site-packages\\ipykernel\\kernelbase.py:1234\u001b[0m, in \u001b[0;36mKernel._input_request\u001b[1;34m(self, prompt, ident, parent, password)\u001b[0m\n\u001b[0;32m   1231\u001b[0m \u001b[38;5;28;01mexcept\u001b[39;00m \u001b[38;5;167;01mKeyboardInterrupt\u001b[39;00m:\n\u001b[0;32m   1232\u001b[0m     \u001b[38;5;66;03m# re-raise KeyboardInterrupt, to truncate traceback\u001b[39;00m\n\u001b[0;32m   1233\u001b[0m     msg \u001b[38;5;241m=\u001b[39m \u001b[38;5;124m\"\u001b[39m\u001b[38;5;124mInterrupted by user\u001b[39m\u001b[38;5;124m\"\u001b[39m\n\u001b[1;32m-> 1234\u001b[0m     \u001b[38;5;28;01mraise\u001b[39;00m \u001b[38;5;167;01mKeyboardInterrupt\u001b[39;00m(msg) \u001b[38;5;28;01mfrom\u001b[39;00m \u001b[38;5;28mNone\u001b[39m\n\u001b[0;32m   1235\u001b[0m \u001b[38;5;28;01mexcept\u001b[39;00m \u001b[38;5;167;01mException\u001b[39;00m:\n\u001b[0;32m   1236\u001b[0m     \u001b[38;5;28mself\u001b[39m\u001b[38;5;241m.\u001b[39mlog\u001b[38;5;241m.\u001b[39mwarning(\u001b[38;5;124m\"\u001b[39m\u001b[38;5;124mInvalid Message:\u001b[39m\u001b[38;5;124m\"\u001b[39m, exc_info\u001b[38;5;241m=\u001b[39m\u001b[38;5;28;01mTrue\u001b[39;00m)\n",
      "\u001b[1;31mKeyboardInterrupt\u001b[0m: Interrupted by user"
     ]
    }
   ],
   "source": [
    "store = {}\n",
    "\n",
    "def add_item():\n",
    "    item = input(\"what would you like to add?\")\n",
    "    quantity = int(input(f\"how mand {item} would you like?\"))\n",
    "    \n",
    "    if item not in store:\n",
    "        store[item] = quantity       \n",
    "    \n",
    "\n",
    "def remove_item():\n",
    "    item = input(\"what would you like to remove\")\n",
    "    del store[item]\n",
    "    \n",
    "\n",
    "def show_store():\n",
    "    print(store)\n",
    "    \n",
    "while True:\n",
    "    response = input(\"What would you like to do? add, remove, show\")\n",
    "    \n",
    "    if response.lower() == 'add':\n",
    "        add_item()\n",
    "    elif response.lower() == 'remove':\n",
    "        remove_item()\n",
    "        \n",
    "    elif response.lower() == \"show\":\n",
    "        show_store()\n",
    "        \n",
    "    elif response.lower() == \"quit\":\n",
    "        break\n",
    "    else: \n",
    "        print(\"Please enter a valid response\")\n",
    "    \n",
    "\n"
   ]
  },
  {
   "cell_type": "code",
   "execution_count": null,
   "metadata": {},
   "outputs": [],
   "source": []
  },
  {
   "cell_type": "code",
   "execution_count": null,
   "metadata": {},
   "outputs": [],
   "source": []
  },
  {
   "cell_type": "markdown",
   "metadata": {},
   "source": [
    "## Function Exercises <br>\n",
    "### Exercise 1\n",
    "<p>Write a function that loops through a list of first_names and a list of last_names, combines the two and return a list of full_names</p>"
   ]
  },
  {
   "cell_type": "code",
   "execution_count": 9,
   "metadata": {},
   "outputs": [],
   "source": [
    "first_name = ['John', 'Evan', 'Jordan', 'Max']\n",
    "last_name = ['Smith', 'Smith', 'Williams', 'Bell']\n",
    "\n",
    "# Output: ['John Smith', 'Evan Smith', 'Jordan Williams', 'Max Bell']\n"
   ]
  },
  {
   "cell_type": "code",
   "execution_count": 18,
   "metadata": {},
   "outputs": [
    {
     "ename": "TypeError",
     "evalue": "bad operand type for unary +: 'str'",
     "output_type": "error",
     "traceback": [
      "\u001b[1;31m---------------------------------------------------------------------------\u001b[0m",
      "\u001b[1;31mTypeError\u001b[0m                                 Traceback (most recent call last)",
      "Cell \u001b[1;32mIn[18], line 7\u001b[0m\n\u001b[0;32m      4\u001b[0m             full_name\u001b[38;5;241m.\u001b[39mappend(first_name[i]), \u001b[38;5;241m+\u001b[39m \u001b[38;5;124m\"\u001b[39m\u001b[38;5;124m \u001b[39m\u001b[38;5;124m\"\u001b[39m, \u001b[38;5;241m+\u001b[39m (last_name[i])\n\u001b[0;32m      5\u001b[0m     \u001b[38;5;28;01mreturn\u001b[39;00m full_name\n\u001b[1;32m----> 7\u001b[0m \u001b[43mfull_name\u001b[49m\u001b[43m(\u001b[49m\u001b[43mfirst_name\u001b[49m\u001b[43m,\u001b[49m\u001b[43m \u001b[49m\u001b[43mlast_name\u001b[49m\u001b[43m)\u001b[49m\n",
      "Cell \u001b[1;32mIn[18], line 4\u001b[0m, in \u001b[0;36mfull_name\u001b[1;34m(first_name, last_name)\u001b[0m\n\u001b[0;32m      2\u001b[0m full_name \u001b[38;5;241m=\u001b[39m []\n\u001b[0;32m      3\u001b[0m \u001b[38;5;28;01mfor\u001b[39;00m i \u001b[38;5;129;01min\u001b[39;00m \u001b[38;5;28mrange\u001b[39m(\u001b[38;5;28mlen\u001b[39m(first_name)):\n\u001b[1;32m----> 4\u001b[0m         full_name\u001b[38;5;241m.\u001b[39mappend(first_name[i]), \u001b[38;5;241;43m+\u001b[39;49m\u001b[43m \u001b[49m\u001b[38;5;124;43m\"\u001b[39;49m\u001b[38;5;124;43m \u001b[39;49m\u001b[38;5;124;43m\"\u001b[39;49m, \u001b[38;5;241m+\u001b[39m (last_name[i])\n\u001b[0;32m      5\u001b[0m \u001b[38;5;28;01mreturn\u001b[39;00m full_name\n",
      "\u001b[1;31mTypeError\u001b[0m: bad operand type for unary +: 'str'"
     ]
    }
   ],
   "source": [
    "def full_name(first_name, last_name):\n",
    "    full_name = []\n",
    "    for i in range(len(first_name)):\n",
    "            full_name.append(first_name[i]), + \" \", + (last_name[i])\n",
    "    return full_name\n",
    "    \n",
    "full_name(first_name, last_name)\n"
   ]
  },
  {
   "cell_type": "code",
   "execution_count": 8,
   "metadata": {},
   "outputs": [
    {
     "ename": "NameError",
     "evalue": "name 'first_name' is not defined",
     "output_type": "error",
     "traceback": [
      "\u001b[1;31m---------------------------------------------------------------------------\u001b[0m",
      "\u001b[1;31mNameError\u001b[0m                                 Traceback (most recent call last)",
      "Cell \u001b[1;32mIn[8], line 4\u001b[0m\n\u001b[0;32m      1\u001b[0m \u001b[38;5;28;01mdef\u001b[39;00m \u001b[38;5;21mfullName\u001b[39m(firstname,lastname):\n\u001b[0;32m      2\u001b[0m     \u001b[38;5;28;01mreturn\u001b[39;00m [firstname[i] \u001b[38;5;241m+\u001b[39m \u001b[38;5;124m\"\u001b[39m\u001b[38;5;124m \u001b[39m\u001b[38;5;124m\"\u001b[39m\u001b[38;5;241m+\u001b[39m lastname[i] \u001b[38;5;28;01mfor\u001b[39;00m i \u001b[38;5;129;01min\u001b[39;00m \u001b[38;5;28mrange\u001b[39m(\u001b[38;5;28mlen\u001b[39m(firstname))]\n\u001b[1;32m----> 4\u001b[0m \u001b[38;5;28mprint\u001b[39m(fullName(\u001b[43mfirst_name\u001b[49m,last_name))\n",
      "\u001b[1;31mNameError\u001b[0m: name 'first_name' is not defined"
     ]
    }
   ],
   "source": [
    "def fullName(firstname,lastname):\n",
    "    return [firstname[i] + \" \"+ lastname[i] for i in range(len(firstname))]\n",
    "\n",
    "print(fullName(first_name,last_name))\n",
    "\n"
   ]
  },
  {
   "cell_type": "code",
   "execution_count": 80,
   "metadata": {},
   "outputs": [
    {
     "name": "stdout",
     "output_type": "stream",
     "text": [
      "['John Smith', 'Evan Smith', 'Jordan Williams', 'Max Bell']\n"
     ]
    }
   ],
   "source": [
    "def full_name(first, last):\n",
    "    return [first[i]+' '+last[i] for i in range(len(first))]\n",
    "  \n",
    "print(full_name(first_name, last_name))"
   ]
  },
  {
   "cell_type": "code",
   "execution_count": null,
   "metadata": {},
   "outputs": [],
   "source": []
  },
  {
   "cell_type": "code",
   "execution_count": 78,
   "metadata": {},
   "outputs": [
    {
     "name": "stdout",
     "output_type": "stream",
     "text": [
      "['John Smith', 'Evan Smith', 'Jordan Williams', 'Max Bell']\n"
     ]
    }
   ],
   "source": [
    "def both_name(first_name, last_name):\n",
    "    full_name = []\n",
    "    for a in range(len(first_names)):\n",
    "        full_name.append(first_names[a] + \" \" + last_names[a])\n",
    "    return full_names\n",
    "\n",
    "first_name = ['John', 'Evan', 'Jordan', 'Max']\n",
    "\n",
    "last_name = ['Smith', 'Smith', 'Williams', 'Bell']\n",
    "\n",
    "full_name = both_name(first_name, last_name)\n",
    "\n",
    "print(full_name)\n",
    "\n"
   ]
  },
  {
   "cell_type": "code",
   "execution_count": 79,
   "metadata": {},
   "outputs": [
    {
     "name": "stdout",
     "output_type": "stream",
     "text": [
      "[('John', 'Smith'), ('Evan', 'Smith'), ('Jordan', 'Williams'), ('Max', 'Bell')]\n"
     ]
    }
   ],
   "source": [
    "new_names = zip(first_name, last_name)\n",
    "print(list(new_names))"
   ]
  },
  {
   "cell_type": "code",
   "execution_count": null,
   "metadata": {},
   "outputs": [],
   "source": []
  },
  {
   "cell_type": "code",
   "execution_count": null,
   "metadata": {},
   "outputs": [],
   "source": []
  },
  {
   "cell_type": "markdown",
   "metadata": {},
   "source": [
    "### Exercise 2\n",
    "Create a function that alters all values in the given list by subtracting 5 and then doubling them."
   ]
  },
  {
   "cell_type": "code",
   "execution_count": 84,
   "metadata": {},
   "outputs": [],
   "source": [
    "\n",
    "input_list = [5,10,15,20,3]\n",
    "# output = [0,10,20,30,-4]\n",
    "\n"
   ]
  },
  {
   "cell_type": "code",
   "execution_count": 85,
   "metadata": {},
   "outputs": [
    {
     "name": "stdout",
     "output_type": "stream",
     "text": [
      "[0, 10, 20, 30, -4]\n"
     ]
    }
   ],
   "source": [
    "def alter_list(input_list):\n",
    "    \n",
    "    output_list = []\n",
    "    \n",
    "    for val in input_list:\n",
    "        \n",
    "        output_list.append((val - 5) * 2)\n",
    "    \n",
    "    return output_list\n",
    "\n",
    "input_list = [5, 10, 15, 20, 3]\n",
    "\n",
    "output_list = alter_list(input_list)\n",
    "\n",
    "print(output_list)"
   ]
  },
  {
   "cell_type": "code",
   "execution_count": 86,
   "metadata": {},
   "outputs": [
    {
     "name": "stdout",
     "output_type": "stream",
     "text": [
      "[0, 10, 20, 30, -4]\n"
     ]
    }
   ],
   "source": [
    "def alter_nums(arr):\n",
    "    new_nums = []\n",
    "    for num in input_list:\n",
    "        new_num = (int(num) - 5)*2\n",
    "        new_nums.append(new_num)\n",
    "    return new_nums\n",
    "\n",
    "print(alter_nums(input_list))"
   ]
  },
  {
   "cell_type": "code",
   "execution_count": 87,
   "metadata": {},
   "outputs": [
    {
     "name": "stdout",
     "output_type": "stream",
     "text": [
      "[0, 10, 20, 30, -4]\n"
     ]
    }
   ],
   "source": [
    "def problem(list1):\n",
    "    return [(i-5)*2 for i in list1]\n",
    "\n",
    "print(problem(input_list))"
   ]
  },
  {
   "cell_type": "code",
   "execution_count": 88,
   "metadata": {},
   "outputs": [
    {
     "name": "stdout",
     "output_type": "stream",
     "text": [
      "[0, 10, 20, 30, -4]\n"
     ]
    }
   ],
   "source": [
    "def mathThisList(numList):\n",
    "    return [(num-5)*2 for num in numList]\n",
    "\n",
    "print(mathThisList(input_list))"
   ]
  },
  {
   "cell_type": "code",
   "execution_count": null,
   "metadata": {},
   "outputs": [],
   "source": [
    "def mathThisList(numList):\n",
    "    return [(num-5)*2 for num in numList]\n",
    "\n",
    "print(mathThisList(input_list))"
   ]
  },
  {
   "cell_type": "code",
   "execution_count": null,
   "metadata": {},
   "outputs": [],
   "source": []
  },
  {
   "cell_type": "markdown",
   "metadata": {},
   "source": [
    "### Exercise 3\n",
    "Create a function that takes in a list of strings and filters out the strings that DO NOT contain vowels. "
   ]
  },
  {
   "cell_type": "code",
   "execution_count": null,
   "metadata": {},
   "outputs": [],
   "source": [
    "string_list = ['Sheldon','Pnny','Leonard','Hwrd','Rj','Amy','Strt']\n",
    "# output = ['Sheldon','Leonard','Amy']\n",
    "\n"
   ]
  },
  {
   "cell_type": "code",
   "execution_count": 103,
   "metadata": {},
   "outputs": [
    {
     "name": "stdout",
     "output_type": "stream",
     "text": [
      "['Sheldon', 'Leonard', 'Amy']\n"
     ]
    }
   ],
   "source": [
    "string_list = ['Sheldon','Pnny','Leonard','Hwrd','Rj','Amy','Strt']\n",
    "\n",
    "def only_vowels(arr):\n",
    "    \n",
    "    vowels = set('aeiouAEIOU')\n",
    "   \n",
    "    with_vowels = []\n",
    "    \n",
    "    for string in vowels_list:\n",
    "        \n",
    "        if any(char in vowels for char in string):\n",
    "            \n",
    "            filtered_list.append(string)\n",
    "   \n",
    "    return filtered_list\n",
    "\n",
    "\n",
    "\n",
    "string_list = ['Sheldon','Pnny','Leonard','Hwrd','Rj','Amy','Strt']\n",
    "filtered_list = filter_strings_with_vowels(string_list)\n",
    "print(filtered_list)"
   ]
  },
  {
   "cell_type": "code",
   "execution_count": null,
   "metadata": {
    "collapsed": true
   },
   "outputs": [],
   "source": [
    "def vowels_only2(arr):\n",
    "    return [x for x in arr if not ('a' not in x.lower() and 'e' not in x.lower() and 'i' not in x.lower() and 'o' not in x.lower() and 'u' not in x.lower())]"
   ]
  },
  {
   "cell_type": "code",
   "execution_count": 100,
   "metadata": {},
   "outputs": [
    {
     "name": "stdout",
     "output_type": "stream",
     "text": [
      "['Sheldon', 'Leonard']\n"
     ]
    }
   ],
   "source": [
    "def name_with_vowels(str_list):\n",
    "    return [name for name in str_list if ('e' or 'a' or 'i' or 'u' or 'o') in name]\n",
    "\n",
    "print(name_with_vowels(string_list))"
   ]
  },
  {
   "cell_type": "code",
   "execution_count": null,
   "metadata": {},
   "outputs": [],
   "source": [
    "def vowel(list1):\n",
    "    new_l = []\n",
    "    vowels = ['a', 'e', 'i', 'o', 'u']\n",
    "    for name in list1:\n",
    "        for letter in name:\n",
    "            if letter.lower() in vowels:\n",
    "                new_l.append(name)\n",
    "                break\n",
    "                \n",
    "    return new_l\n",
    "\n",
    "print(vowel(string_list))"
   ]
  },
  {
   "cell_type": "code",
   "execution_count": null,
   "metadata": {},
   "outputs": [],
   "source": []
  },
  {
   "cell_type": "code",
   "execution_count": null,
   "metadata": {},
   "outputs": [],
   "source": []
  },
  {
   "cell_type": "code",
   "execution_count": null,
   "metadata": {},
   "outputs": [],
   "source": []
  },
  {
   "cell_type": "markdown",
   "metadata": {},
   "source": [
    "### Exercise 4\n",
    "Create a function that accepts a list as a parameter and returns a dictionary containing the list items as it's keys, and the number of times they appear in the list as the values"
   ]
  },
  {
   "cell_type": "code",
   "execution_count": null,
   "metadata": {},
   "outputs": [],
   "source": [
    "example_list = [\"Harry\", 'Hermione','Harry','Ron','Dobby','Draco','Luna','Harry','Hermione','Ron','Ron','Ron']\n",
    "\n",
    "# output = {\n",
    "#     \"Harry\":3,\n",
    "#     \"Hermione\":2,\n",
    "#     \"Ron\":4,\n",
    "#     \"Dobby\":1,\n",
    "#     \"Draco\":1,\n",
    "#     \"Luna\": 1\n",
    "# }\n",
    "\n"
   ]
  },
  {
   "cell_type": "code",
   "execution_count": 99,
   "metadata": {
    "scrolled": true
   },
   "outputs": [
    {
     "name": "stdout",
     "output_type": "stream",
     "text": [
      "{'Harry': 3, 'Hermione': 2, 'Ron': 4, 'Dobby': 1, 'Draco': 1, 'Luna': 1}\n"
     ]
    }
   ],
   "source": [
    "example_list = [\"Harry\", 'Hermione','Harry','Ron','Dobby','Draco','Luna','Harry','Hermione','Ron','Ron','Ron']\n",
    "\n",
    "def num_times(lst):\n",
    "\n",
    "    main_times = {}\n",
    "    for i in lst:\n",
    "        if i in main_times:\n",
    "            main_times[i] += 1\n",
    "        else:\n",
    "            main_times[i] = 1\n",
    "    return main_times\n",
    "\n",
    "example_list = [\"Harry\", 'Hermione','Harry','Ron','Dobby','Draco','Luna','Harry','Hermione','Ron','Ron','Ron']\n",
    "\n",
    "total_times = num_times(example_list)\n",
    "\n",
    "print(total_times)\n",
    "\n",
    "\n"
   ]
  },
  {
   "cell_type": "code",
   "execution_count": null,
   "metadata": {},
   "outputs": [],
   "source": []
  },
  {
   "cell_type": "code",
   "execution_count": 104,
   "metadata": {},
   "outputs": [
    {
     "name": "stdout",
     "output_type": "stream",
     "text": [
      "Harry : 3\n",
      "Hermione : 2\n",
      "Ron : 4\n",
      "Dobby : 1\n",
      "Draco : 1\n",
      "Luna : 1\n"
     ]
    }
   ],
   "source": [
    "# duplicate situation good , good for dictionaries\n",
    "\n",
    "\n",
    "def countList(arr):\n",
    "    d = {}\n",
    "    for i in arr:\n",
    "        if i not in d:\n",
    "            d[i] = 1\n",
    "        else:\n",
    "            d[i] += 1\n",
    "    return d\n",
    "\n",
    "for key, value in countList(example_list).items():\n",
    "    print(key, \":\", value)"
   ]
  },
  {
   "cell_type": "code",
   "execution_count": null,
   "metadata": {},
   "outputs": [],
   "source": []
  },
  {
   "cell_type": "code",
   "execution_count": 105,
   "metadata": {},
   "outputs": [
    {
     "name": "stdout",
     "output_type": "stream",
     "text": [
      "{'Harry': 3, 'Hermione': 2, 'Ron': 4, 'Dobby': 1, 'Draco': 1, 'Luna': 1}\n"
     ]
    }
   ],
   "source": [
    "def nameDict(nameList):\n",
    "    names = {}\n",
    "    for name in nameList:\n",
    "        names.setdefault(name, 0)\n",
    "        names[name] += 1\n",
    "    return names\n",
    "\n",
    "print(nameDict(example_list))"
   ]
  },
  {
   "cell_type": "code",
   "execution_count": null,
   "metadata": {},
   "outputs": [],
   "source": []
  },
  {
   "cell_type": "code",
   "execution_count": null,
   "metadata": {},
   "outputs": [],
   "source": []
  },
  {
   "cell_type": "code",
   "execution_count": null,
   "metadata": {},
   "outputs": [],
   "source": []
  },
  {
   "cell_type": "code",
   "execution_count": null,
   "metadata": {},
   "outputs": [],
   "source": []
  },
  {
   "cell_type": "markdown",
   "metadata": {},
   "source": [
    "\n",
    "\n",
    "## Scope <br>\n",
    "<p>Scope refers to the ability to access variables, different types of scope include:<br>a) Global<br>b) Function (local)<br>c) Class (local)</p>"
   ]
  },
  {
   "cell_type": "code",
   "execution_count": null,
   "metadata": {},
   "outputs": [],
   "source": [
    "# placement of variable declaration matters\n",
    "\n",
    "number = 3 # Global Variable\n",
    "\n",
    "def myFunc(num9):\n",
    "    num = num9  # Local Function Variable\n",
    "    return num\n",
    "\n",
    "print(number)\n",
    "return_num = myFunc()\n",
    "print(return_num)\n",
    "\n"
   ]
  },
  {
   "cell_type": "code",
   "execution_count": null,
   "metadata": {},
   "outputs": [],
   "source": [
    "num = 10 #<--- this is a global variable\n",
    "\n",
    "def add_nums(number):\n",
    "    num = 12\n",
    "    return number + num\n",
    "\n",
    "print(add_nums(15))\n",
    "\n",
    "num = 15\n",
    "print(num)"
   ]
  },
  {
   "cell_type": "code",
   "execution_count": null,
   "metadata": {},
   "outputs": [],
   "source": [
    "def add_nums(a, b):\n",
    "    number1 = a\n",
    "    number2 = b\n",
    "    return number1 + number2\n",
    "\n",
    "def subtract_nums(b):\n",
    "    return number1 - b\n",
    "\n",
    "subtract_nums(4)"
   ]
  },
  {
   "cell_type": "code",
   "execution_count": null,
   "metadata": {},
   "outputs": [],
   "source": []
  },
  {
   "cell_type": "code",
   "execution_count": null,
   "metadata": {},
   "outputs": [],
   "source": []
  },
  {
   "cell_type": "markdown",
   "metadata": {},
   "source": [
    "## Modules"
   ]
  },
  {
   "cell_type": "markdown",
   "metadata": {},
   "source": [
    "##### Importing Entire Modules\n"
   ]
  },
  {
   "cell_type": "code",
   "execution_count": 109,
   "metadata": {},
   "outputs": [
    {
     "name": "stdout",
     "output_type": "stream",
     "text": [
      "3.141592653589793\n",
      "3\n",
      "4\n"
     ]
    }
   ],
   "source": [
    "## Modules\n",
    "\n",
    "import math\n",
    "\n",
    "print(math.pi)\n",
    " \n",
    "# just saying pi dosent work have to use math.pi to have it work   \n",
    "    \n",
    "num = 5\n",
    "num2 = 2\n",
    "num3 = 5/2\n",
    "print(3)\n",
    "print(math.ceil(math.pi))\n"
   ]
  },
  {
   "cell_type": "code",
   "execution_count": null,
   "metadata": {},
   "outputs": [],
   "source": []
  },
  {
   "cell_type": "code",
   "execution_count": null,
   "metadata": {},
   "outputs": [],
   "source": []
  },
  {
   "cell_type": "markdown",
   "metadata": {},
   "source": [
    "##### Importing Methods Only"
   ]
  },
  {
   "cell_type": "code",
   "execution_count": 112,
   "metadata": {},
   "outputs": [
    {
     "name": "stdout",
     "output_type": "stream",
     "text": [
      "3\n",
      "4\n"
     ]
    }
   ],
   "source": [
    "# from 'xxx' import 'yyy'\n",
    "# from math import floor\n",
    "from math import floor, pi, ceil\n",
    "\n",
    "print(floor(pi))\n",
    "print(ceil(pi))"
   ]
  },
  {
   "cell_type": "code",
   "execution_count": null,
   "metadata": {},
   "outputs": [],
   "source": []
  },
  {
   "cell_type": "code",
   "execution_count": null,
   "metadata": {},
   "outputs": [],
   "source": []
  },
  {
   "cell_type": "markdown",
   "metadata": {},
   "source": [
    "##### Using the 'as' Keyword"
   ]
  },
  {
   "cell_type": "code",
   "execution_count": 113,
   "metadata": {},
   "outputs": [
    {
     "name": "stdout",
     "output_type": "stream",
     "text": [
      "3.141592653589793\n"
     ]
    }
   ],
   "source": [
    "# from 'xxx' import 'xxx' as 'xxx' or import 'xxx' as 'xxx'\n",
    "# from math import floor as f\n",
    "from math import floor as f, pi as p\n",
    "\n",
    "print(p)\n"
   ]
  },
  {
   "cell_type": "code",
   "execution_count": null,
   "metadata": {},
   "outputs": [],
   "source": []
  },
  {
   "cell_type": "code",
   "execution_count": null,
   "metadata": {},
   "outputs": [],
   "source": []
  },
  {
   "cell_type": "markdown",
   "metadata": {},
   "source": [
    "##### Creating a Module"
   ]
  },
  {
   "cell_type": "code",
   "execution_count": null,
   "metadata": {},
   "outputs": [],
   "source": [
    "from module import printName as pn\n",
    "\n",
    "pn(\"Ryan\")"
   ]
  },
  {
   "cell_type": "code",
   "execution_count": 115,
   "metadata": {},
   "outputs": [
    {
     "name": "stdout",
     "output_type": "stream",
     "text": [
      "Hello Mr/Ms Ryan...we've been waiting for you!\n"
     ]
    }
   ],
   "source": [
    "from module import printName as pn\n",
    "pn(\"Ryan\")\n"
   ]
  },
  {
   "cell_type": "code",
   "execution_count": null,
   "metadata": {},
   "outputs": [],
   "source": []
  },
  {
   "cell_type": "markdown",
   "metadata": {},
   "source": [
    "# Homework Exercises"
   ]
  },
  {
   "cell_type": "markdown",
   "metadata": {},
   "source": [
    "### 1) Create a Module in VS Code and Import It into jupyter notebook <br>\n",
    "<p><b>Module should have the following capabilities:</b><br><br>\n",
    "1a) Has a function to calculate the square footage of a house <br>\n",
    "    <b>Reminder of Formula: Length X Width == Area</b><br>\n",
    "        <hr>\n",
    "1b) Has a function to calculate the circumference of a circle <br><br>\n",
    "<b>Program in Jupyter Notebook should take in user input and use imported functions to calculate a circle's circumference or a houses square footage</b>\n",
    "</p>"
   ]
  },
  {
   "cell_type": "code",
   "execution_count": 66,
   "metadata": {},
   "outputs": [
    {
     "ename": "SyntaxError",
     "evalue": "invalid syntax (my_module.py, line 21)",
     "output_type": "error",
     "traceback": [
      "Traceback \u001b[1;36m(most recent call last)\u001b[0m:\n",
      "\u001b[0m  File \u001b[0;32m~\\AppData\\Local\\Programs\\Python\\Python310\\lib\\site-packages\\IPython\\core\\interactiveshell.py:3460\u001b[0m in \u001b[0;35mrun_code\u001b[0m\n    exec(code_obj, self.user_global_ns, self.user_ns)\u001b[0m\n",
      "\u001b[1;36m  Cell \u001b[1;32mIn[66], line 1\u001b[1;36m\n\u001b[1;33m    import my_module\u001b[1;36m\n",
      "\u001b[1;36m  File \u001b[1;32m~\\Codingtemple\\rangers114\\week_2\\day4\\my_module.py:21\u001b[1;36m\u001b[0m\n\u001b[1;33m    print(\"The circumference of Your Yet is:\", circumference)22\u001b[0m\n\u001b[1;37m                                                             ^\u001b[0m\n\u001b[1;31mSyntaxError\u001b[0m\u001b[1;31m:\u001b[0m invalid syntax\n"
     ]
    }
   ],
   "source": [
    "\n",
    "import my_module\n",
    "\n",
    "\n",
    "\n",
    "# Prompt the user for input\n",
    "length = float(input(\"Enter the length of the house in feet: \"))\n",
    "width = float(input(\"Enter the width of the house in feet: \"))\n",
    "radius = float(input(\"Enter the radius of the circle in feet: \"))\n",
    "\n",
    "# Calculate the square footage and circumference\n",
    "square_footage = math_functions.my_module_square_foot(length, width)\n",
    "circumference = math_functions.my_module_circl_feren(radius)\n",
    "\n",
    "# Print the results\n",
    "print(\"The square footage of the house is:\", square_footage, \"square feet.\")\n",
    "print(\"The circumference of the circle is:\", circumference, \"feet.\")\n",
    "\n",
    "\n"
   ]
  },
  {
   "cell_type": "markdown",
   "metadata": {},
   "source": [
    "## Exercise 2 <br>\n",
    "<p>Create a function which given an array of integers, return an array, where the first element is the count of\n",
    "positives numbers and the second element is sum of negative numbers. 0 is neither positive nor negative.\n",
    "If the input array is empty or null, return an empty array.</p><br>\n"
   ]
  },
  {
   "cell_type": "code",
   "execution_count": null,
   "metadata": {},
   "outputs": [],
   "source": [
    "Create a function which given an array of integers, return an array, where the first element is the count of positives numbers and the second element is sum of negative numbers. 0 is neither positive nor negative. If the input array is empty or null, return an empty array.\n",
    "arr = [2, -4, 5, 3, 12, -104, -56, 27, 0]"
   ]
  },
  {
   "cell_type": "code",
   "execution_count": 30,
   "metadata": {},
   "outputs": [
    {
     "name": "stdout",
     "output_type": "stream",
     "text": [
      "[5, -164]\n"
     ]
    }
   ],
   "source": [
    "arr = [2, -4, 5, 3, 12, -104, -56, 27, 0]\n",
    "\n",
    "def num_list(arr):\n",
    "    \n",
    "    if not arr:\n",
    "        \n",
    "        return []\n",
    "    \n",
    "    positive_num = len([x for x in arr if x > 0])\n",
    "    \n",
    "    negative_num = sum([x for x in arr if x < 0])\n",
    "    \n",
    "    return [positive_num, negative_num]\n",
    "\n",
    "p_and_n = num_list(arr)\n",
    "\n",
    "print(p_and_n)  \n"
   ]
  },
  {
   "cell_type": "code",
   "execution_count": null,
   "metadata": {},
   "outputs": [],
   "source": []
  },
  {
   "cell_type": "code",
   "execution_count": null,
   "metadata": {},
   "outputs": [],
   "source": [
    "\n",
    "\n"
   ]
  },
  {
   "cell_type": "code",
   "execution_count": null,
   "metadata": {},
   "outputs": [],
   "source": []
  },
  {
   "cell_type": "markdown",
   "metadata": {},
   "source": [
    "## Exercise 3 <br>\n",
    "<p>Create a function that returns the sum of the two lowest positive numbers given\n",
    "an array of minimum 4 positive integers. No floats or non-positive integers will be passed.</p>"
   ]
  },
  {
   "cell_type": "code",
   "execution_count": 48,
   "metadata": {},
   "outputs": [
    {
     "data": {
      "text/plain": [
       "26"
      ]
     },
     "execution_count": 48,
     "metadata": {},
     "output_type": "execute_result"
    }
   ],
   "source": [
    "pos_arr = [6, 20, 48, 96, 109, 10034]\n",
    "\n",
    "def both_nums(num):\n",
    "    \n",
    "    small_nums = sorted(num)\n",
    "    \n",
    "    return small_nums[0] + small_nums[1]\n",
    "\n",
    "both_nums(pos_arr)\n",
    "\n",
    "\n",
    "\n"
   ]
  },
  {
   "cell_type": "code",
   "execution_count": null,
   "metadata": {},
   "outputs": [],
   "source": []
  },
  {
   "cell_type": "markdown",
   "metadata": {},
   "source": [
    "## Exercise 4 <br>\n",
    "<p>Write a function that when given a list of items will return the \n",
    "item that appears the most times in the list. \n",
    "If two or more items appear the same amount of times, output all items in a list.\n",
    "\n",
    "Example Input = ['Orange', 'Apple', 'Bear', 3, 7, 'Tree', 'Orange', 'Tree']\n",
    "Example Out = ['Orange', 'Tree']\n",
    "\n",
    "#Hint (a counter dictionary might be helpful)</p>"
   ]
  },
  {
   "cell_type": "code",
   "execution_count": 59,
   "metadata": {},
   "outputs": [
    {
     "name": "stdout",
     "output_type": "stream",
     "text": [
      "['Orange', 'Tree']\n"
     ]
    }
   ],
   "source": [
    "# Input = ['Orange', 'Apple', 'Bear', 3, 7, 'Tree', 'Orange', 'Tree'] Example Out = ['Orange', 'Tree']\n",
    " \n",
    "input_list = ['Orange', 'Apple', 'Bear', 3, 7, 'Tree', 'Orange', 'Tree']\n",
    "\n",
    "\n",
    "dictionary = {}\n",
    "\n",
    "for item in input_list:\n",
    "   \n",
    "    if item not in dictionary:\n",
    "       \n",
    "        dictionary[item] = 1\n",
    "    else:\n",
    "        \n",
    "        dictionary[item] += 1\n",
    "\n",
    "\n",
    "output_list = [key for key, value in dictionary.items() if value > 1]\n",
    "\n",
    "print(output_list)  \n",
    "    \n",
    "\n"
   ]
  },
  {
   "cell_type": "code",
   "execution_count": null,
   "metadata": {},
   "outputs": [],
   "source": []
  },
  {
   "cell_type": "code",
   "execution_count": null,
   "metadata": {},
   "outputs": [],
   "source": []
  }
 ],
 "metadata": {
  "kernelspec": {
   "display_name": "Python 3 (ipykernel)",
   "language": "python",
   "name": "python3"
  },
  "language_info": {
   "codemirror_mode": {
    "name": "ipython",
    "version": 3
   },
   "file_extension": ".py",
   "mimetype": "text/x-python",
   "name": "python",
   "nbconvert_exporter": "python",
   "pygments_lexer": "ipython3",
   "version": "3.10.10"
  }
 },
 "nbformat": 4,
 "nbformat_minor": 2
}
